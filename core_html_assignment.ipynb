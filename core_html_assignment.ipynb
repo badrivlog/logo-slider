{
  "nbformat": 4,
  "nbformat_minor": 0,
  "metadata": {
    "colab": {
      "provenance": []
    },
    "kernelspec": {
      "name": "python3",
      "display_name": "Python 3"
    },
    "language_info": {
      "name": "python"
    }
  },
  "cells": [
    {
      "cell_type": "markdown",
      "source": [
        "**1. Build a simple webpage that displays text as shown in the below image.**"
      ],
      "metadata": {
        "id": "nJsTMGNiq-AT"
      }
    },
    {
      "cell_type": "code",
      "execution_count": 3,
      "metadata": {
        "colab": {
          "base_uri": "https://localhost:8080/",
          "height": 108
        },
        "id": "BaKhgqdUqnFM",
        "outputId": "7d57096d-67f3-452f-f32f-6cabb42d3756"
      },
      "outputs": [
        {
          "output_type": "error",
          "ename": "SyntaxError",
          "evalue": "leading zeros in decimal integer literals are not permitted; use an 0o prefix for octal integers (<ipython-input-3-fff9c32f2772>, line 8)",
          "traceback": [
            "\u001b[0;36m  File \u001b[0;32m\"<ipython-input-3-fff9c32f2772>\"\u001b[0;36m, line \u001b[0;32m8\u001b[0m\n\u001b[0;31m    <title>Core HTML | Assignment question- 01</title>\u001b[0m\n\u001b[0m                                            ^\u001b[0m\n\u001b[0;31mSyntaxError\u001b[0m\u001b[0;31m:\u001b[0m leading zeros in decimal integer literals are not permitted; use an 0o prefix for octal integers\n"
          ]
        }
      ],
      "source": [
        "\"\"\"\n",
        "<!DOCTYPE html>\n",
        "<html lang=\"en\">\n",
        "  <head>\n",
        "    <meta charset=\"UTF-8\" />\n",
        "    <meta name=\"viewport\" content=\"width=device-width, initial-scale=1.0\" />\n",
        "    <title>Core HTML | Assignment question- 01</title>\n",
        "  </head>\n",
        "  <body>\n",
        "    <p><strong>This text will be bolded.</strong></p>\n",
        "    <p><em>This text will be italic.</em></p>\n",
        "    <p><u>This text will be underlined.</u></p>\n",
        "    <p><mark>This text will be highlighted.</mark></p>\n",
        "    <p>\n",
        "      This is normal text <sup>This will be super scripted</sup> This is normal\n",
        "      again.\n",
        "    </p>\n",
        "    <p>This is normal text <sub>This text will be subscript</sub></p>\n",
        "    <p>Normal Text <small>Small</small> Text</p>\n",
        "    <p><del>This text will be deleted</del></p>\n",
        "  </body>\n",
        "</html>\n",
        "\"\"\""
      ]
    },
    {
      "cell_type": "markdown",
      "source": [],
      "metadata": {
        "id": "6XL0caJvq7Yk"
      }
    },
    {
      "cell_type": "code",
      "source": [],
      "metadata": {
        "id": "rYX9UMKLsr5e"
      },
      "execution_count": null,
      "outputs": []
    }
  ]
}